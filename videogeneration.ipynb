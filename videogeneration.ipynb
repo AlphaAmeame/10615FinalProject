{
 "cells": [
  {
   "cell_type": "code",
   "execution_count": 52,
   "id": "7bf538f0",
   "metadata": {},
   "outputs": [],
   "source": [
    "import cv2\n",
    "import os\n",
    "\n",
    "# Define the folder containing the interpolated images\n",
    "input_folder = \"./StyleGan_Interpolated_Images/\"\n",
    "\n",
    "# Define the output video file name\n",
    "output_file = \"./StyleGanVideo1.mp4\"\n",
    "\n",
    "max_size = (1920,1080)\n",
    "\n",
    "# Define the frame rate of the output video\n",
    "frame_rate = 10\n",
    "\n",
    "# Get the list of interpolated images\n",
    "images = sorted(os.listdir(input_folder))\n",
    "\n",
    "# Load the first image to get the dimensions\n",
    "first_image = cv2.imread(os.path.join(input_folder, images[0]))\n",
    "height, width, channels = first_image.shape\n",
    "\n",
    "scale_factor = min(max_size[0] / width, max_size[1] / height)\n",
    "new_size = (int(width * scale_factor), int(height * scale_factor))\n",
    "\n",
    "# Define the codec for the output video\n",
    "fourcc = cv2.VideoWriter_fourcc(*'mp4v')\n",
    "\n",
    "# Create the video writer object\n",
    "video_writer = cv2.VideoWriter(output_file, fourcc, frame_rate, (width, height))\n",
    "\n",
    "# Loop over the interpolated images and write them to the output video\n",
    "for image_file in images:\n",
    "    image = cv2.imread(os.path.join(input_folder, image_file))\n",
    "    resized_image = cv2.resize(image, new_size, interpolation=cv2.INTER_AREA)\n",
    "    video_writer.write(resized_image)\n",
    "\n",
    "# Release the video writer object\n",
    "video_writer.release()"
   ]
  },
  {
   "cell_type": "code",
   "execution_count": 11,
   "id": "91e576fd",
   "metadata": {},
   "outputs": [],
   "source": [
    "import numpy as np\n",
    "import cv2\n",
    "import os\n",
    "import glob"
   ]
  },
  {
   "cell_type": "code",
   "execution_count": 53,
   "id": "250064f1",
   "metadata": {},
   "outputs": [],
   "source": [
    "def load_images_from_folder(folder_path):\n",
    "    image_paths = sorted(glob.glob(os.path.join(folder_path, \"*.*\")))\n",
    "    image_paths = sorted(image_paths, key=natural_keys)\n",
    "    images = [cv2.imread(image_path) for image_path in image_paths]\n",
    "    return images\n",
    "\n",
    "def linear_interpolate_images(images, num_interpolations):\n",
    "    interpolations = []\n",
    "    for j in range(len(images) - 1):\n",
    "        start_img, end_img = images[j], images[j+1]\n",
    "        for i in range(1, num_interpolations + 1):\n",
    "            alpha = i / (num_interpolations + 1)\n",
    "            interpolated_img = cv2.addWeighted(start_img, 1 - alpha, end_img, alpha, 0)\n",
    "            interpolations.append(interpolated_img)\n",
    "    \n",
    "    return interpolations\n",
    "\n",
    "def save_interpolated_images(interpolated_images, output_path, prefix):\n",
    "    for i, interpolated_image in enumerate(interpolated_images):\n",
    "        cv2.imwrite(f\"{output_path}/{prefix}_{i+1}.png\", interpolated_image)"
   ]
  },
  {
   "cell_type": "code",
   "execution_count": 54,
   "id": "af4f1b66",
   "metadata": {},
   "outputs": [],
   "source": [
    "input_path = './StyleGan_Images/'\n",
    "output_path = './StyleGan_Interpolated_Images'\n",
    "prefix = 'interpolated'\n",
    "num_interpolations = 5"
   ]
  },
  {
   "cell_type": "code",
   "execution_count": 55,
   "id": "e667f7c4",
   "metadata": {},
   "outputs": [],
   "source": [
    "images = load_images_from_folder(input_path)"
   ]
  },
  {
   "cell_type": "code",
   "execution_count": 56,
   "id": "1873b1ba",
   "metadata": {},
   "outputs": [],
   "source": [
    "interpolated_images = linear_interpolate_images(images, num_interpolations)\n"
   ]
  },
  {
   "cell_type": "code",
   "execution_count": 57,
   "id": "65c97358",
   "metadata": {},
   "outputs": [],
   "source": [
    "interpolated_images.append(images[-1])"
   ]
  },
  {
   "cell_type": "code",
   "execution_count": 58,
   "id": "58566da7",
   "metadata": {},
   "outputs": [],
   "source": [
    "save_interpolated_images(interpolated_images, output_path, prefix)"
   ]
  },
  {
   "cell_type": "code",
   "execution_count": 50,
   "id": "e7d50bdf",
   "metadata": {},
   "outputs": [],
   "source": [
    "import cv2\n",
    "import os\n",
    "import glob\n",
    "import re\n",
    "\n",
    "def atoi(text):\n",
    "    return int(text) if text.isdigit() else text\n",
    "\n",
    "def natural_keys(text):\n",
    "    return [atoi(c) for c in re.split(r'(\\d+)', text)]\n",
    "\n",
    "def create_video_from_images(image_folder_path, output_path, fps=30, fourcc='mp4v', max_size=None):\n",
    "    # Read image paths in the folder\n",
    "    image_paths = sorted(glob.glob(os.path.join(image_folder_path, \"*.png\")))\n",
    "    image_paths = sorted(image_paths, key=natural_keys)\n",
    "    images = sorted(os.listdir(input_folder))\n",
    "    # Read the first image to get dimensions\n",
    "    first_image = cv2.imread(image_paths[0])\n",
    "    height, width, _ = first_image.shape\n",
    "    \n",
    "    # Check if resizing is needed\n",
    "    if max_size:\n",
    "        scale_factor = min(max_size[0] / width, max_size[1] / height)\n",
    "        new_size = (int(width * scale_factor), int(height * scale_factor))\n",
    "    else:\n",
    "        new_size = (width, height)\n",
    "\n",
    "    # Initialize the video writer\n",
    "    fourcc_code = cv2.VideoWriter_fourcc(*fourcc)\n",
    "    video_writer = cv2.VideoWriter(output_path, fourcc_code, fps, new_size)\n",
    "\n",
    "    # Add images to the video\n",
    "    for image_path in image_paths:\n",
    "        image = cv2.imread(image_path)\n",
    "        resized_image = cv2.resize(image, new_size, interpolation=cv2.INTER_AREA)\n",
    "        video_writer.write(resized_image)\n",
    "    \n",
    "    # Release the video writer and close all windows\n",
    "    video_writer.release()\n",
    "    cv2.destroyAllWindows()"
   ]
  },
  {
   "cell_type": "code",
   "execution_count": 59,
   "id": "9b87f6d0",
   "metadata": {},
   "outputs": [],
   "source": [
    "input_folder = \"./StyleGan_Interpolated_Images/\"\n",
    "output_file = \"./StyleGanVideo.mp4\"\n",
    "fps = 10\n",
    "max_size = (1920,1080)\n",
    "create_video_from_images(input_folder, output_file, fps, max_size=max_size)"
   ]
  },
  {
   "cell_type": "code",
   "execution_count": null,
   "id": "4c8cb4cc",
   "metadata": {},
   "outputs": [],
   "source": []
  }
 ],
 "metadata": {
  "kernelspec": {
   "display_name": "Python 3 (ipykernel)",
   "language": "python",
   "name": "python3"
  },
  "language_info": {
   "codemirror_mode": {
    "name": "ipython",
    "version": 3
   },
   "file_extension": ".py",
   "mimetype": "text/x-python",
   "name": "python",
   "nbconvert_exporter": "python",
   "pygments_lexer": "ipython3",
   "version": "3.9.7"
  }
 },
 "nbformat": 4,
 "nbformat_minor": 5
}
